{
 "cells": [
  {
   "cell_type": "code",
   "execution_count": 1,
   "metadata": {},
   "outputs": [],
   "source": [
    "import numpy as np\n",
    "import pandas as pd\n",
    "import statsmodels.api as sm\n",
    "import statsmodels.formula.api as smf\n",
    "import matplotlib.pyplot as plt"
   ]
  },
  {
   "cell_type": "code",
   "execution_count": 2,
   "metadata": {},
   "outputs": [
    {
     "name": "stdout",
     "output_type": "stream",
     "text": [
      "[0.01, 0.02, 0.03, 0.04, 0.05, 0.06, 0.07, 0.08, 0.09, 0.1, 0.11, 0.12, 0.13, 0.14, 0.15, 0.16, 0.17, 0.18, 0.19, 0.2, 0.21, 0.22, 0.23, 0.24, 0.25, 0.26, 0.27, 0.28, 0.29, 0.3, 0.31, 0.32, 0.33, 0.34, 0.35, 0.36, 0.37, 0.38, 0.39, 0.4, 0.41, 0.42, 0.43, 0.44, 0.45, 0.46, 0.47, 0.48, 0.49, 0.5, 0.51, 0.52, 0.53, 0.54, 0.55, 0.56, 0.57, 0.58, 0.59, 0.6, 0.61, 0.62, 0.63, 0.64, 0.65, 0.66, 0.67, 0.68, 0.69, 0.7, 0.71, 0.72, 0.73, 0.74, 0.75, 0.76, 0.77, 0.78, 0.79, 0.8, 0.81, 0.82, 0.83, 0.84, 0.85, 0.86, 0.87, 0.88, 0.89, 0.9, 0.91, 0.92, 0.93, 0.94, 0.95, 0.96, 0.97, 0.98, 0.99]\n"
     ]
    }
   ],
   "source": [
    "quantiles = [round(q/1000, 2) for q in range(1, 999, 10)][1:]\n",
    "print(quantiles)"
   ]
  },
  {
   "cell_type": "markdown",
   "metadata": {},
   "source": [
    "### Training"
   ]
  },
  {
   "cell_type": "code",
   "execution_count": 3,
   "metadata": {},
   "outputs": [],
   "source": [
    "input_filename = 'xy_2020-07-11.csv'\n",
    "training_df = pd.read_csv(f'data/{input_filename}')\n",
    "\n",
    "QR_MODEL = smf.quantreg('y ~ x', training_df)\n",
    "\n",
    "def fit_qr_model_to(quantile):\n",
    "    result = QR_MODEL.fit(q=quantile, max_iter=10000)\n",
    "    alpha = result.params['Intercept']\n",
    "    beta  = result.params['x']\n",
    "    return alpha, beta\n",
    "\n",
    "models_per_quantile = {\n",
    "    quantile: fit_qr_model_to(quantile) \n",
    "    for quantile in quantiles\n",
    "}"
   ]
  },
  {
   "cell_type": "markdown",
   "metadata": {},
   "source": [
    "### Prediction"
   ]
  },
  {
   "cell_type": "code",
   "execution_count": 4,
   "metadata": {},
   "outputs": [],
   "source": [
    "predictions = []\n",
    "x_vals = np.arange(training_df.x.min(), training_df.x.max())\n",
    "for x in x_vals:\n",
    "    for quantile in quantiles:\n",
    "        alpha, beta = models_per_quantile[quantile]\n",
    "        y_predicted = alpha + (beta * x)\n",
    "        predictions.append([x, quantile, y_predicted])\n",
    "\n",
    "predictions_df = pd.DataFrame(\n",
    "    predictions, \n",
    "    columns=['x', 'quantile', 'y_predicted'],\n",
    ")"
   ]
  },
  {
   "cell_type": "markdown",
   "metadata": {},
   "source": [
    "### Output"
   ]
  },
  {
   "cell_type": "code",
   "execution_count": 5,
   "metadata": {},
   "outputs": [
    {
     "data": {
      "text/html": [
       "<div>\n",
       "<style scoped>\n",
       "    .dataframe tbody tr th:only-of-type {\n",
       "        vertical-align: middle;\n",
       "    }\n",
       "\n",
       "    .dataframe tbody tr th {\n",
       "        vertical-align: top;\n",
       "    }\n",
       "\n",
       "    .dataframe thead th {\n",
       "        text-align: right;\n",
       "    }\n",
       "</style>\n",
       "<table border=\"1\" class=\"dataframe\">\n",
       "  <thead>\n",
       "    <tr style=\"text-align: right;\">\n",
       "      <th></th>\n",
       "      <th>x</th>\n",
       "      <th>quantile</th>\n",
       "      <th>y_predicted</th>\n",
       "    </tr>\n",
       "  </thead>\n",
       "  <tbody>\n",
       "    <tr>\n",
       "      <th>0</th>\n",
       "      <td>1</td>\n",
       "      <td>0.01</td>\n",
       "      <td>-0.001786</td>\n",
       "    </tr>\n",
       "    <tr>\n",
       "      <th>1</th>\n",
       "      <td>1</td>\n",
       "      <td>0.02</td>\n",
       "      <td>0.002963</td>\n",
       "    </tr>\n",
       "    <tr>\n",
       "      <th>2</th>\n",
       "      <td>1</td>\n",
       "      <td>0.03</td>\n",
       "      <td>0.002393</td>\n",
       "    </tr>\n",
       "    <tr>\n",
       "      <th>3</th>\n",
       "      <td>1</td>\n",
       "      <td>0.04</td>\n",
       "      <td>0.006048</td>\n",
       "    </tr>\n",
       "    <tr>\n",
       "      <th>4</th>\n",
       "      <td>1</td>\n",
       "      <td>0.05</td>\n",
       "      <td>0.006974</td>\n",
       "    </tr>\n",
       "  </tbody>\n",
       "</table>\n",
       "</div>"
      ],
      "text/plain": [
       "   x  quantile  y_predicted\n",
       "0  1      0.01    -0.001786\n",
       "1  1      0.02     0.002963\n",
       "2  1      0.03     0.002393\n",
       "3  1      0.04     0.006048\n",
       "4  1      0.05     0.006974"
      ]
     },
     "execution_count": 5,
     "metadata": {},
     "output_type": "execute_result"
    }
   ],
   "source": [
    "predictions_df.head(5)"
   ]
  },
  {
   "cell_type": "code",
   "execution_count": 6,
   "metadata": {},
   "outputs": [],
   "source": [
    "predictions_df_pivoted_by_quantiles = predictions_df.pivot(\n",
    "    index='x', columns='quantile',\n",
    ")"
   ]
  },
  {
   "cell_type": "code",
   "execution_count": 7,
   "metadata": {},
   "outputs": [
    {
     "data": {
      "text/html": [
       "<div>\n",
       "<style scoped>\n",
       "    .dataframe tbody tr th:only-of-type {\n",
       "        vertical-align: middle;\n",
       "    }\n",
       "\n",
       "    .dataframe tbody tr th {\n",
       "        vertical-align: top;\n",
       "    }\n",
       "\n",
       "    .dataframe thead tr th {\n",
       "        text-align: left;\n",
       "    }\n",
       "\n",
       "    .dataframe thead tr:last-of-type th {\n",
       "        text-align: right;\n",
       "    }\n",
       "</style>\n",
       "<table border=\"1\" class=\"dataframe\">\n",
       "  <thead>\n",
       "    <tr>\n",
       "      <th></th>\n",
       "      <th colspan=\"21\" halign=\"left\">y_predicted</th>\n",
       "    </tr>\n",
       "    <tr>\n",
       "      <th>quantile</th>\n",
       "      <th>0.01</th>\n",
       "      <th>0.02</th>\n",
       "      <th>0.03</th>\n",
       "      <th>0.04</th>\n",
       "      <th>0.05</th>\n",
       "      <th>0.06</th>\n",
       "      <th>0.07</th>\n",
       "      <th>0.08</th>\n",
       "      <th>0.09</th>\n",
       "      <th>0.10</th>\n",
       "      <th>...</th>\n",
       "      <th>0.90</th>\n",
       "      <th>0.91</th>\n",
       "      <th>0.92</th>\n",
       "      <th>0.93</th>\n",
       "      <th>0.94</th>\n",
       "      <th>0.95</th>\n",
       "      <th>0.96</th>\n",
       "      <th>0.97</th>\n",
       "      <th>0.98</th>\n",
       "      <th>0.99</th>\n",
       "    </tr>\n",
       "    <tr>\n",
       "      <th>x</th>\n",
       "      <th></th>\n",
       "      <th></th>\n",
       "      <th></th>\n",
       "      <th></th>\n",
       "      <th></th>\n",
       "      <th></th>\n",
       "      <th></th>\n",
       "      <th></th>\n",
       "      <th></th>\n",
       "      <th></th>\n",
       "      <th></th>\n",
       "      <th></th>\n",
       "      <th></th>\n",
       "      <th></th>\n",
       "      <th></th>\n",
       "      <th></th>\n",
       "      <th></th>\n",
       "      <th></th>\n",
       "      <th></th>\n",
       "      <th></th>\n",
       "      <th></th>\n",
       "    </tr>\n",
       "  </thead>\n",
       "  <tbody>\n",
       "    <tr>\n",
       "      <th>1</th>\n",
       "      <td>-0.001786</td>\n",
       "      <td>0.002963</td>\n",
       "      <td>0.002393</td>\n",
       "      <td>0.006048</td>\n",
       "      <td>0.006974</td>\n",
       "      <td>0.008569</td>\n",
       "      <td>0.015392</td>\n",
       "      <td>0.017436</td>\n",
       "      <td>0.017694</td>\n",
       "      <td>0.021362</td>\n",
       "      <td>...</td>\n",
       "      <td>0.091733</td>\n",
       "      <td>0.092339</td>\n",
       "      <td>0.092600</td>\n",
       "      <td>0.108163</td>\n",
       "      <td>0.111397</td>\n",
       "      <td>0.111700</td>\n",
       "      <td>0.124307</td>\n",
       "      <td>0.138520</td>\n",
       "      <td>0.137437</td>\n",
       "      <td>0.167982</td>\n",
       "    </tr>\n",
       "    <tr>\n",
       "      <th>2</th>\n",
       "      <td>-0.001703</td>\n",
       "      <td>0.003000</td>\n",
       "      <td>0.002460</td>\n",
       "      <td>0.006069</td>\n",
       "      <td>0.006991</td>\n",
       "      <td>0.008562</td>\n",
       "      <td>0.015307</td>\n",
       "      <td>0.017331</td>\n",
       "      <td>0.017646</td>\n",
       "      <td>0.021282</td>\n",
       "      <td>...</td>\n",
       "      <td>0.094123</td>\n",
       "      <td>0.094819</td>\n",
       "      <td>0.095132</td>\n",
       "      <td>0.110518</td>\n",
       "      <td>0.113776</td>\n",
       "      <td>0.114120</td>\n",
       "      <td>0.126608</td>\n",
       "      <td>0.140734</td>\n",
       "      <td>0.139761</td>\n",
       "      <td>0.169963</td>\n",
       "    </tr>\n",
       "    <tr>\n",
       "      <th>3</th>\n",
       "      <td>-0.001619</td>\n",
       "      <td>0.003037</td>\n",
       "      <td>0.002528</td>\n",
       "      <td>0.006091</td>\n",
       "      <td>0.007009</td>\n",
       "      <td>0.008556</td>\n",
       "      <td>0.015222</td>\n",
       "      <td>0.017226</td>\n",
       "      <td>0.017597</td>\n",
       "      <td>0.021201</td>\n",
       "      <td>...</td>\n",
       "      <td>0.096512</td>\n",
       "      <td>0.097300</td>\n",
       "      <td>0.097663</td>\n",
       "      <td>0.112873</td>\n",
       "      <td>0.116154</td>\n",
       "      <td>0.116539</td>\n",
       "      <td>0.128909</td>\n",
       "      <td>0.142947</td>\n",
       "      <td>0.142085</td>\n",
       "      <td>0.171944</td>\n",
       "    </tr>\n",
       "    <tr>\n",
       "      <th>4</th>\n",
       "      <td>-0.001536</td>\n",
       "      <td>0.003074</td>\n",
       "      <td>0.002595</td>\n",
       "      <td>0.006112</td>\n",
       "      <td>0.007026</td>\n",
       "      <td>0.008549</td>\n",
       "      <td>0.015137</td>\n",
       "      <td>0.017121</td>\n",
       "      <td>0.017549</td>\n",
       "      <td>0.021121</td>\n",
       "      <td>...</td>\n",
       "      <td>0.098901</td>\n",
       "      <td>0.099781</td>\n",
       "      <td>0.100194</td>\n",
       "      <td>0.115228</td>\n",
       "      <td>0.118533</td>\n",
       "      <td>0.118959</td>\n",
       "      <td>0.131210</td>\n",
       "      <td>0.145160</td>\n",
       "      <td>0.144409</td>\n",
       "      <td>0.173925</td>\n",
       "    </tr>\n",
       "    <tr>\n",
       "      <th>5</th>\n",
       "      <td>-0.001452</td>\n",
       "      <td>0.003111</td>\n",
       "      <td>0.002662</td>\n",
       "      <td>0.006133</td>\n",
       "      <td>0.007044</td>\n",
       "      <td>0.008542</td>\n",
       "      <td>0.015052</td>\n",
       "      <td>0.017016</td>\n",
       "      <td>0.017501</td>\n",
       "      <td>0.021041</td>\n",
       "      <td>...</td>\n",
       "      <td>0.101290</td>\n",
       "      <td>0.102261</td>\n",
       "      <td>0.102725</td>\n",
       "      <td>0.117583</td>\n",
       "      <td>0.120911</td>\n",
       "      <td>0.121378</td>\n",
       "      <td>0.133511</td>\n",
       "      <td>0.147374</td>\n",
       "      <td>0.146733</td>\n",
       "      <td>0.175906</td>\n",
       "    </tr>\n",
       "  </tbody>\n",
       "</table>\n",
       "<p>5 rows × 99 columns</p>\n",
       "</div>"
      ],
      "text/plain": [
       "         y_predicted                                                    \\\n",
       "quantile        0.01      0.02      0.03      0.04      0.05      0.06   \n",
       "x                                                                        \n",
       "1          -0.001786  0.002963  0.002393  0.006048  0.006974  0.008569   \n",
       "2          -0.001703  0.003000  0.002460  0.006069  0.006991  0.008562   \n",
       "3          -0.001619  0.003037  0.002528  0.006091  0.007009  0.008556   \n",
       "4          -0.001536  0.003074  0.002595  0.006112  0.007026  0.008549   \n",
       "5          -0.001452  0.003111  0.002662  0.006133  0.007044  0.008542   \n",
       "\n",
       "                                                  ...                      \\\n",
       "quantile      0.07      0.08      0.09      0.10  ...      0.90      0.91   \n",
       "x                                                 ...                       \n",
       "1         0.015392  0.017436  0.017694  0.021362  ...  0.091733  0.092339   \n",
       "2         0.015307  0.017331  0.017646  0.021282  ...  0.094123  0.094819   \n",
       "3         0.015222  0.017226  0.017597  0.021201  ...  0.096512  0.097300   \n",
       "4         0.015137  0.017121  0.017549  0.021121  ...  0.098901  0.099781   \n",
       "5         0.015052  0.017016  0.017501  0.021041  ...  0.101290  0.102261   \n",
       "\n",
       "                                                                      \\\n",
       "quantile      0.92      0.93      0.94      0.95      0.96      0.97   \n",
       "x                                                                      \n",
       "1         0.092600  0.108163  0.111397  0.111700  0.124307  0.138520   \n",
       "2         0.095132  0.110518  0.113776  0.114120  0.126608  0.140734   \n",
       "3         0.097663  0.112873  0.116154  0.116539  0.128909  0.142947   \n",
       "4         0.100194  0.115228  0.118533  0.118959  0.131210  0.145160   \n",
       "5         0.102725  0.117583  0.120911  0.121378  0.133511  0.147374   \n",
       "\n",
       "                              \n",
       "quantile      0.98      0.99  \n",
       "x                             \n",
       "1         0.137437  0.167982  \n",
       "2         0.139761  0.169963  \n",
       "3         0.142085  0.171944  \n",
       "4         0.144409  0.173925  \n",
       "5         0.146733  0.175906  \n",
       "\n",
       "[5 rows x 99 columns]"
      ]
     },
     "execution_count": 7,
     "metadata": {},
     "output_type": "execute_result"
    }
   ],
   "source": [
    "predictions_df_pivoted_by_quantiles.head(5)"
   ]
  },
  {
   "cell_type": "code",
   "execution_count": 8,
   "metadata": {},
   "outputs": [],
   "source": [
    "predictions_df.to_csv(f'data/{input_filename}_predictions.csv', index=False)"
   ]
  },
  {
   "cell_type": "code",
   "execution_count": 9,
   "metadata": {},
   "outputs": [],
   "source": [
    "predictions_df_pivoted_by_quantiles.to_csv(\n",
    "    f'data/{input_filename}_predictions_pivoted.csv', \n",
    ")"
   ]
  },
  {
   "cell_type": "markdown",
   "metadata": {},
   "source": [
    "### Visualization\n",
    "Plot the modeled curve (line) for a particular quantile with the backdrop of the original data."
   ]
  },
  {
   "cell_type": "code",
   "execution_count": 10,
   "metadata": {},
   "outputs": [],
   "source": [
    "# TODO: Set this to what you want to visualize!\n",
    "QUANTILE_TO_VISUAIZE  = 0.01  "
   ]
  },
  {
   "cell_type": "code",
   "execution_count": 11,
   "metadata": {},
   "outputs": [
    {
     "data": {
      "text/plain": [
       "[<matplotlib.lines.Line2D at 0x120b76390>]"
      ]
     },
     "execution_count": 11,
     "metadata": {},
     "output_type": "execute_result"
    },
    {
     "data": {
      "image/png": "[encoded data removed]",
      "text/plain": [
       "<Figure size 1152x864 with 1 Axes>"
      ]
     },
     "metadata": {
      "needs_background": "light"
     },
     "output_type": "display_data"
    }
   ],
   "source": [
    "fig, ax = plt.subplots(figsize=(16, 12))\n",
    "\n",
    "# plot traing data\n",
    "ax.scatter(training_df.x, training_df.y, alpha=0.5)\n",
    "ax.set_xlabel('x', fontsize=16)\n",
    "ax.set_ylabel('y', fontsize=16,);\n",
    "\n",
    "# plot curve modeled by using QR for QUANTILE_TO_VISUAIZE\n",
    "predictions_for_given_q =  predictions_df.query(\n",
    "    f'quantile == {QUANTILE_TO_VISUAIZE}'\n",
    ")\n",
    "x_vals = predictions_for_given_q.x\n",
    "y_vals = predictions_for_given_q.y_predicted\n",
    "ax.plot(x_vals, y_vals, linestyle='solid', color='red')"
   ]
  },
  {
   "cell_type": "code",
   "execution_count": null,
   "metadata": {},
   "outputs": [],
   "source": []
  }
 ],
 "metadata": {
  "kernelspec": {
   "display_name": "Python 3",
   "language": "python",
   "name": "python3"
  },
  "language_info": {
   "codemirror_mode": {
    "name": "ipython",
    "version": 3
   },
   "file_extension": ".py",
   "mimetype": "text/x-python",
   "name": "python",
   "nbconvert_exporter": "python",
   "pygments_lexer": "ipython3",
   "version": "3.6.2"
  }
 },
 "nbformat": 4,
 "nbformat_minor": 4
}
